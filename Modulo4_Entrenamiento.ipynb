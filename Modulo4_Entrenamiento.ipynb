{
 "cells": [
  {
   "cell_type": "code",
   "execution_count": 1,
   "metadata": {
    "id": "QYMeeusGGrvf"
   },
   "outputs": [],
   "source": [
    "\n",
    "import tensorflow as tf\n",
    "from tensorflow.keras.datasets import mnist\n",
    "from tensorflow.keras.utils import to_categorical\n",
    "import numpy as np\n",
    "import math\n",
    "\n",
    "TAMANO_LOTE=32\n",
    "#Cargar datos de MNIST\n",
    "(X_train, Y_train), (X_test, Y_test) = mnist.load_data()"
   ]
  },
  {
   "cell_type": "code",
   "execution_count": 2,
   "metadata": {
    "id": "B9gLUzKxQ2X7"
   },
   "outputs": [],
   "source": [
    "#Colocar los datos en la forma correcta que ya hemos visto (1, 28, 28, 1)\n",
    "X_train = X_train.reshape(X_train.shape[0], 28, 28, 1)\n",
    "X_test = X_test.reshape(X_test.shape[0], 28, 28, 1)\n",
    "\n",
    "#Hacer categorias\n",
    "Y_train = to_categorical(Y_train)\n",
    "Y_test = to_categorical(Y_test)\n",
    "\n",
    "#Normalizar datos\n",
    "X_train = X_train.astype('float32') / 255\n",
    "X_test = X_test.astype('float32') / 255"
   ]
  },
  {
   "cell_type": "code",
   "execution_count": 3,
   "metadata": {
    "id": "WvW96S3NQ9bN"
   },
   "outputs": [],
   "source": [
    "#Aumento de datos\n",
    "\n",
    "from tensorflow.keras.preprocessing.image import ImageDataGenerator\n",
    "\n",
    "rotacion = 30\n",
    "mov_ancho = 0.25\n",
    "mov_alto = 0.25\n",
    "rango_acercamiento=[0.5,1.5]\n",
    "\n",
    "datagen = ImageDataGenerator(\n",
    "    rotation_range = rotacion,\n",
    "    width_shift_range = mov_ancho,\n",
    "    height_shift_range = mov_alto,\n",
    "    zoom_range=rango_acercamiento,\n",
    "   \n",
    ")\n",
    "\n",
    "datagen.fit(X_train)"
   ]
  },
  {
   "cell_type": "markdown",
   "metadata": {
    "id": "HytXJhCec74E"
   },
   "source": [
    "Modelo 1"
   ]
  },
  {
   "cell_type": "code",
   "execution_count": 4,
   "metadata": {
    "colab": {
     "base_uri": "https://localhost:8080/"
    },
    "id": "Lwd0H2I_c5jP",
    "outputId": "f33dba92-2a89-429f-cfd0-5f7848fbf8f6"
   },
   "outputs": [
    {
     "name": "stdout",
     "output_type": "stream",
     "text": [
      "Epoch 1/60\n",
      "1875/1875 [==============================] - 13s 2ms/step - loss: 0.2927 - accuracy: 0.9152 - val_loss: 0.1498 - val_accuracy: 0.9532\n",
      "Epoch 2/60\n",
      "1875/1875 [==============================] - 2s 1ms/step - loss: 0.1359 - accuracy: 0.9587 - val_loss: 0.1124 - val_accuracy: 0.9650\n",
      "Epoch 3/60\n",
      "1875/1875 [==============================] - 3s 1ms/step - loss: 0.0998 - accuracy: 0.9699 - val_loss: 0.1071 - val_accuracy: 0.9641\n",
      "Epoch 4/60\n",
      "1875/1875 [==============================] - 3s 1ms/step - loss: 0.0789 - accuracy: 0.9755 - val_loss: 0.0960 - val_accuracy: 0.9689\n",
      "Epoch 5/60\n",
      "1875/1875 [==============================] - 3s 1ms/step - loss: 0.0662 - accuracy: 0.9790 - val_loss: 0.0874 - val_accuracy: 0.9714\n",
      "Epoch 6/60\n",
      "1875/1875 [==============================] - 3s 1ms/step - loss: 0.0560 - accuracy: 0.9821 - val_loss: 0.0922 - val_accuracy: 0.9710\n",
      "Epoch 7/60\n",
      "1875/1875 [==============================] - 3s 1ms/step - loss: 0.0476 - accuracy: 0.9848 - val_loss: 0.0883 - val_accuracy: 0.9734\n",
      "Epoch 8/60\n",
      "1875/1875 [==============================] - 2s 1ms/step - loss: 0.0424 - accuracy: 0.9867 - val_loss: 0.0823 - val_accuracy: 0.9758\n",
      "Epoch 9/60\n",
      "1875/1875 [==============================] - 3s 1ms/step - loss: 0.0373 - accuracy: 0.9875 - val_loss: 0.1158 - val_accuracy: 0.9684\n",
      "Epoch 10/60\n",
      "1875/1875 [==============================] - 3s 1ms/step - loss: 0.0327 - accuracy: 0.9895 - val_loss: 0.0936 - val_accuracy: 0.9747\n",
      "Epoch 11/60\n",
      "1875/1875 [==============================] - 3s 1ms/step - loss: 0.0295 - accuracy: 0.9901 - val_loss: 0.0941 - val_accuracy: 0.9756\n",
      "Epoch 12/60\n",
      "1875/1875 [==============================] - 3s 1ms/step - loss: 0.0253 - accuracy: 0.9917 - val_loss: 0.0903 - val_accuracy: 0.9764\n",
      "Epoch 13/60\n",
      "1875/1875 [==============================] - 3s 1ms/step - loss: 0.0250 - accuracy: 0.9911 - val_loss: 0.1021 - val_accuracy: 0.9750\n",
      "Epoch 14/60\n",
      "1875/1875 [==============================] - 3s 1ms/step - loss: 0.0206 - accuracy: 0.9930 - val_loss: 0.1094 - val_accuracy: 0.9728\n",
      "Epoch 15/60\n",
      "1875/1875 [==============================] - 3s 1ms/step - loss: 0.0205 - accuracy: 0.9931 - val_loss: 0.0943 - val_accuracy: 0.9755\n",
      "Epoch 16/60\n",
      "1875/1875 [==============================] - 3s 1ms/step - loss: 0.0189 - accuracy: 0.9937 - val_loss: 0.1168 - val_accuracy: 0.9760\n",
      "Epoch 17/60\n",
      "1875/1875 [==============================] - 3s 1ms/step - loss: 0.0169 - accuracy: 0.9940 - val_loss: 0.1053 - val_accuracy: 0.9768\n",
      "Epoch 18/60\n",
      "1875/1875 [==============================] - 3s 1ms/step - loss: 0.0147 - accuracy: 0.9949 - val_loss: 0.1145 - val_accuracy: 0.9757\n",
      "Epoch 19/60\n",
      "1875/1875 [==============================] - 3s 1ms/step - loss: 0.0137 - accuracy: 0.9954 - val_loss: 0.1187 - val_accuracy: 0.9737\n",
      "Epoch 20/60\n",
      "1875/1875 [==============================] - 3s 1ms/step - loss: 0.0127 - accuracy: 0.9957 - val_loss: 0.1222 - val_accuracy: 0.9735\n",
      "Epoch 21/60\n",
      "1875/1875 [==============================] - 3s 1ms/step - loss: 0.0145 - accuracy: 0.9950 - val_loss: 0.1296 - val_accuracy: 0.9760\n",
      "Epoch 22/60\n",
      "1875/1875 [==============================] - 3s 1ms/step - loss: 0.0136 - accuracy: 0.9954 - val_loss: 0.1360 - val_accuracy: 0.9747\n",
      "Epoch 23/60\n",
      "1875/1875 [==============================] - 3s 1ms/step - loss: 0.0134 - accuracy: 0.9954 - val_loss: 0.1265 - val_accuracy: 0.9760\n",
      "Epoch 24/60\n",
      "1875/1875 [==============================] - 3s 1ms/step - loss: 0.0122 - accuracy: 0.9961 - val_loss: 0.1295 - val_accuracy: 0.9746\n",
      "Epoch 25/60\n",
      "1875/1875 [==============================] - 2s 1ms/step - loss: 0.0109 - accuracy: 0.9962 - val_loss: 0.1504 - val_accuracy: 0.9735\n",
      "Epoch 26/60\n",
      "1875/1875 [==============================] - 3s 1ms/step - loss: 0.0110 - accuracy: 0.9962 - val_loss: 0.1453 - val_accuracy: 0.9739\n",
      "Epoch 27/60\n",
      "1875/1875 [==============================] - 3s 1ms/step - loss: 0.0104 - accuracy: 0.9963 - val_loss: 0.1409 - val_accuracy: 0.9768\n",
      "Epoch 28/60\n",
      "1875/1875 [==============================] - 3s 1ms/step - loss: 0.0118 - accuracy: 0.9959 - val_loss: 0.1302 - val_accuracy: 0.9767\n",
      "Epoch 29/60\n",
      "1875/1875 [==============================] - 3s 1ms/step - loss: 0.0099 - accuracy: 0.9965 - val_loss: 0.1638 - val_accuracy: 0.9730\n",
      "Epoch 30/60\n",
      "1875/1875 [==============================] - 3s 1ms/step - loss: 0.0120 - accuracy: 0.9961 - val_loss: 0.1522 - val_accuracy: 0.9748\n",
      "Epoch 31/60\n",
      "1875/1875 [==============================] - 3s 1ms/step - loss: 0.0093 - accuracy: 0.9969 - val_loss: 0.1432 - val_accuracy: 0.9764\n",
      "Epoch 32/60\n",
      "1875/1875 [==============================] - 3s 1ms/step - loss: 0.0098 - accuracy: 0.9965 - val_loss: 0.1548 - val_accuracy: 0.9752\n",
      "Epoch 33/60\n",
      "1875/1875 [==============================] - 3s 1ms/step - loss: 0.0086 - accuracy: 0.9971 - val_loss: 0.1691 - val_accuracy: 0.9720\n",
      "Epoch 34/60\n",
      "1875/1875 [==============================] - 2s 1ms/step - loss: 0.0099 - accuracy: 0.9965 - val_loss: 0.1583 - val_accuracy: 0.9759\n",
      "Epoch 35/60\n",
      "1875/1875 [==============================] - 3s 1ms/step - loss: 0.0091 - accuracy: 0.9969 - val_loss: 0.1605 - val_accuracy: 0.9748\n",
      "Epoch 36/60\n",
      "1875/1875 [==============================] - 3s 1ms/step - loss: 0.0090 - accuracy: 0.9970 - val_loss: 0.1890 - val_accuracy: 0.9712\n",
      "Epoch 37/60\n",
      "1875/1875 [==============================] - 3s 1ms/step - loss: 0.0067 - accuracy: 0.9980 - val_loss: 0.1647 - val_accuracy: 0.9753\n",
      "Epoch 38/60\n",
      "1875/1875 [==============================] - 3s 1ms/step - loss: 0.0087 - accuracy: 0.9974 - val_loss: 0.1612 - val_accuracy: 0.9759\n",
      "Epoch 39/60\n",
      "1875/1875 [==============================] - 3s 1ms/step - loss: 0.0089 - accuracy: 0.9972 - val_loss: 0.1719 - val_accuracy: 0.9747\n",
      "Epoch 40/60\n",
      "1875/1875 [==============================] - 3s 1ms/step - loss: 0.0086 - accuracy: 0.9973 - val_loss: 0.1780 - val_accuracy: 0.9752\n",
      "Epoch 41/60\n",
      "1875/1875 [==============================] - 3s 1ms/step - loss: 0.0076 - accuracy: 0.9975 - val_loss: 0.1980 - val_accuracy: 0.9743\n",
      "Epoch 42/60\n",
      "1875/1875 [==============================] - 3s 1ms/step - loss: 0.0075 - accuracy: 0.9976 - val_loss: 0.1862 - val_accuracy: 0.9739\n",
      "Epoch 43/60\n",
      "1875/1875 [==============================] - 3s 1ms/step - loss: 0.0085 - accuracy: 0.9973 - val_loss: 0.1970 - val_accuracy: 0.9738\n",
      "Epoch 44/60\n",
      "1875/1875 [==============================] - 3s 2ms/step - loss: 0.0094 - accuracy: 0.9970 - val_loss: 0.1906 - val_accuracy: 0.9769\n",
      "Epoch 45/60\n",
      "1875/1875 [==============================] - 3s 2ms/step - loss: 0.0066 - accuracy: 0.9980 - val_loss: 0.1749 - val_accuracy: 0.9766\n",
      "Epoch 46/60\n",
      "1875/1875 [==============================] - 3s 1ms/step - loss: 0.0083 - accuracy: 0.9974 - val_loss: 0.1916 - val_accuracy: 0.9759\n",
      "Epoch 47/60\n",
      "1875/1875 [==============================] - 3s 1ms/step - loss: 0.0060 - accuracy: 0.9979 - val_loss: 0.2006 - val_accuracy: 0.9738\n",
      "Epoch 48/60\n",
      "1875/1875 [==============================] - 3s 1ms/step - loss: 0.0097 - accuracy: 0.9972 - val_loss: 0.2063 - val_accuracy: 0.9746\n",
      "Epoch 49/60\n",
      "1875/1875 [==============================] - 3s 1ms/step - loss: 0.0058 - accuracy: 0.9983 - val_loss: 0.2034 - val_accuracy: 0.9741\n",
      "Epoch 50/60\n",
      "1875/1875 [==============================] - 3s 1ms/step - loss: 0.0097 - accuracy: 0.9969 - val_loss: 0.1998 - val_accuracy: 0.9759\n",
      "Epoch 51/60\n",
      "1875/1875 [==============================] - 3s 1ms/step - loss: 0.0079 - accuracy: 0.9976 - val_loss: 0.2117 - val_accuracy: 0.9739\n",
      "Epoch 52/60\n",
      "1875/1875 [==============================] - 3s 1ms/step - loss: 0.0063 - accuracy: 0.9980 - val_loss: 0.2286 - val_accuracy: 0.9733\n",
      "Epoch 53/60\n",
      "1875/1875 [==============================] - 3s 1ms/step - loss: 0.0063 - accuracy: 0.9981 - val_loss: 0.1949 - val_accuracy: 0.9766\n",
      "Epoch 54/60\n",
      "1875/1875 [==============================] - 3s 1ms/step - loss: 0.0071 - accuracy: 0.9976 - val_loss: 0.2072 - val_accuracy: 0.9745\n",
      "Epoch 55/60\n",
      "1875/1875 [==============================] - 3s 1ms/step - loss: 0.0060 - accuracy: 0.9979 - val_loss: 0.1903 - val_accuracy: 0.9752\n",
      "Epoch 56/60\n",
      "1875/1875 [==============================] - 3s 1ms/step - loss: 0.0080 - accuracy: 0.9977 - val_loss: 0.2200 - val_accuracy: 0.9753\n",
      "Epoch 57/60\n",
      "1875/1875 [==============================] - 3s 1ms/step - loss: 0.0081 - accuracy: 0.9976 - val_loss: 0.2310 - val_accuracy: 0.9737\n",
      "Epoch 58/60\n",
      "1875/1875 [==============================] - 3s 1ms/step - loss: 0.0053 - accuracy: 0.9986 - val_loss: 0.2062 - val_accuracy: 0.9755\n",
      "Epoch 59/60\n",
      "1875/1875 [==============================] - 3s 1ms/step - loss: 0.0090 - accuracy: 0.9976 - val_loss: 0.2595 - val_accuracy: 0.9722\n",
      "Epoch 60/60\n",
      "1875/1875 [==============================] - 3s 1ms/step - loss: 0.0052 - accuracy: 0.9983 - val_loss: 0.2215 - val_accuracy: 0.9765\n"
     ]
    }
   ],
   "source": [
    "modelo = tf.keras.Sequential([\n",
    "    tf.keras.layers.Flatten(input_shape=(28,28,1)), \n",
    "    tf.keras.layers.Dense(units=50, activation='relu'),\n",
    "    tf.keras.layers.Dense(units=50, activation='relu'),\n",
    "    tf.keras.layers.Dense(10, activation='softmax')\n",
    "])\n",
    "\n",
    "\n",
    "modelo.compile(\n",
    "    optimizer='adam',\n",
    "    loss=tf.keras.losses.CategoricalCrossentropy(),\n",
    "    metrics=['accuracy']\n",
    ")\n",
    "\n",
    "\n",
    "history = modelo.fit(X_train,Y_train, epochs=60, validation_data = (X_test,Y_test),steps_per_epoch=int(np.ceil(60000 / float(TAMANO_LOTE))),validation_steps=int(np.ceil(10000 / float(TAMANO_LOTE))))\n",
    "\n"
   ]
  },
  {
   "cell_type": "code",
   "execution_count": 5,
   "metadata": {
    "colab": {
     "base_uri": "https://localhost:8080/",
     "height": 607
    },
    "id": "gcVZcPZAc5yj",
    "outputId": "ab0ee975-4653-4915-d1ee-624aa6712bde"
   },
   "outputs": [
    {
     "data": {
      "image/png": "[encoded data removed]",
      "text/plain": [
       "<Figure size 432x288 with 1 Axes>"
      ]
     },
     "metadata": {
      "needs_background": "light"
     },
     "output_type": "display_data"
    },
    {
     "name": "stdout",
     "output_type": "stream",
     "text": [
      "              precision    recall  f1-score   support\n",
      "\n",
      "           0       0.99      0.98      0.99       980\n",
      "           1       0.99      0.99      0.99      1135\n",
      "           2       0.99      0.96      0.97      1032\n",
      "           3       0.97      0.98      0.97      1010\n",
      "           4       0.97      0.98      0.98       982\n",
      "           5       0.97      0.98      0.97       892\n",
      "           6       0.98      0.98      0.98       958\n",
      "           7       0.98      0.97      0.98      1028\n",
      "           8       0.96      0.98      0.97       974\n",
      "           9       0.97      0.97      0.97      1009\n",
      "\n",
      "   micro avg       0.98      0.98      0.98     10000\n",
      "   macro avg       0.98      0.98      0.98     10000\n",
      "weighted avg       0.98      0.98      0.98     10000\n",
      " samples avg       0.98      0.98      0.98     10000\n",
      "\n"
     ]
    }
   ],
   "source": [
    "from sklearn.metrics import classification_report\n",
    "import pandas as pd\n",
    "import matplotlib.pyplot as plt\n",
    "\n",
    "plt.plot(history.history['accuracy'])\n",
    "plt.plot(history.history['val_accuracy'])\n",
    "plt.title('model accuracy')\n",
    "plt.ylabel('accuracy')\n",
    "plt.xlabel('epoch')\n",
    "plt.legend(['train', 'val'], loc='upper left')\n",
    "plt.show()\n",
    "\n",
    "pred = modelo.predict(X_test, batch_size=10)\n",
    "predicted = np.argmax(pred, axis=1)\n",
    "predicted = to_categorical(predicted)\n",
    "report = classification_report(Y_test, predicted)\n",
    "print(report)\n",
    "modelo.save('modelo1.h5')"
   ]
  },
  {
   "cell_type": "markdown",
   "metadata": {
    "id": "vE7W7tMcc9ZZ"
   },
   "source": [
    "Modelo 2"
   ]
  },
  {
   "cell_type": "code",
   "execution_count": 6,
   "metadata": {
    "colab": {
     "base_uri": "https://localhost:8080/"
    },
    "id": "8leSUaedc6Ov",
    "outputId": "ec288344-aad7-4f45-ea0e-342d787398c7"
   },
   "outputs": [
    {
     "name": "stdout",
     "output_type": "stream",
     "text": [
      "Epoch 1/15\n",
      "1875/1875 [==============================] - 27s 14ms/step - loss: 0.1339 - accuracy: 0.9591\n",
      "Epoch 2/15\n",
      "1875/1875 [==============================] - 24s 13ms/step - loss: 0.0461 - accuracy: 0.9854\n",
      "Epoch 3/15\n",
      "1875/1875 [==============================] - 24s 13ms/step - loss: 0.0306 - accuracy: 0.9904\n",
      "Epoch 4/15\n",
      "1875/1875 [==============================] - 24s 13ms/step - loss: 0.0227 - accuracy: 0.9926\n",
      "Epoch 5/15\n",
      "1875/1875 [==============================] - 24s 13ms/step - loss: 0.0173 - accuracy: 0.9943\n",
      "Epoch 6/15\n",
      "1875/1875 [==============================] - 24s 13ms/step - loss: 0.0134 - accuracy: 0.9955\n",
      "Epoch 7/15\n",
      "1875/1875 [==============================] - 24s 13ms/step - loss: 0.0110 - accuracy: 0.9963\n",
      "Epoch 8/15\n",
      "1875/1875 [==============================] - 24s 13ms/step - loss: 0.0086 - accuracy: 0.9971\n",
      "Epoch 9/15\n",
      "1875/1875 [==============================] - 24s 13ms/step - loss: 0.0073 - accuracy: 0.9975\n",
      "Epoch 10/15\n",
      "1875/1875 [==============================] - 24s 13ms/step - loss: 0.0070 - accuracy: 0.9976\n",
      "Epoch 11/15\n",
      "1875/1875 [==============================] - 25s 13ms/step - loss: 0.0058 - accuracy: 0.9980\n",
      "Epoch 12/15\n",
      "1875/1875 [==============================] - 25s 13ms/step - loss: 0.0050 - accuracy: 0.9984\n",
      "Epoch 13/15\n",
      "1875/1875 [==============================] - 24s 13ms/step - loss: 0.0047 - accuracy: 0.9984\n",
      "Epoch 14/15\n",
      "1875/1875 [==============================] - 24s 13ms/step - loss: 0.0058 - accuracy: 0.9979\n",
      "Epoch 15/15\n",
      "1875/1875 [==============================] - 24s 13ms/step - loss: 0.0044 - accuracy: 0.9986\n"
     ]
    }
   ],
   "source": [
    "modelo = tf.keras.Sequential([\n",
    "    tf.keras.layers.Conv2D(32, (3,3), input_shape=(28,28,1), activation='relu'),\n",
    "    tf.keras.layers.MaxPooling2D(2,2), #2,2 es el tamano de la matriz\n",
    "\n",
    "    tf.keras.layers.Conv2D(64, (3,3), activation='relu'),\n",
    "    tf.keras.layers.MaxPooling2D(2,2), #2,2 es el tamano de la matriz\n",
    "\n",
    "    tf.keras.layers.Flatten(),\n",
    "    tf.keras.layers.Dense(units=100, activation='relu'),\n",
    "    tf.keras.layers.Dense(10, activation='softmax')\n",
    "])\n",
    "modelo.compile(\n",
    "    optimizer='adam',\n",
    "    loss=tf.keras.losses.CategoricalCrossentropy(),\n",
    "    metrics=['accuracy']\n",
    ")\n",
    "historial = modelo.fit(\n",
    "    X_train,Y_train,\n",
    "    epochs=15,\n",
    "    steps_per_epoch=int(np.ceil(60000 / float(TAMANO_LOTE))),validation_steps=int(np.ceil(10000 / float(TAMANO_LOTE)))\n",
    ")"
   ]
  },
  {
   "cell_type": "code",
   "execution_count": 7,
   "metadata": {
    "colab": {
     "base_uri": "https://localhost:8080/",
     "height": 607
    },
    "id": "QFQPa4Z8c6Vb",
    "outputId": "5d11b1b8-bce0-4b42-bade-5c4cb68e6973"
   },
   "outputs": [
    {
     "data": {
      "image/png": "[encoded data removed]",
      "text/plain": [
       "<Figure size 432x288 with 1 Axes>"
      ]
     },
     "metadata": {
      "needs_background": "light"
     },
     "output_type": "display_data"
    },
    {
     "name": "stdout",
     "output_type": "stream",
     "text": [
      "              precision    recall  f1-score   support\n",
      "\n",
      "           0       0.99      1.00      1.00       980\n",
      "           1       0.99      1.00      1.00      1135\n",
      "           2       1.00      0.99      0.99      1032\n",
      "           3       0.99      0.99      0.99      1010\n",
      "           4       0.99      1.00      0.99       982\n",
      "           5       0.99      0.99      0.99       892\n",
      "           6       1.00      0.99      0.99       958\n",
      "           7       0.99      0.99      0.99      1028\n",
      "           8       0.98      0.99      0.99       974\n",
      "           9       0.99      0.98      0.99      1009\n",
      "\n",
      "   micro avg       0.99      0.99      0.99     10000\n",
      "   macro avg       0.99      0.99      0.99     10000\n",
      "weighted avg       0.99      0.99      0.99     10000\n",
      " samples avg       0.99      0.99      0.99     10000\n",
      "\n"
     ]
    }
   ],
   "source": [
    "from sklearn.metrics import classification_report\n",
    "import pandas as pd\n",
    "import matplotlib.pyplot as plt\n",
    "\n",
    "plt.plot(history.history['accuracy'])\n",
    "plt.plot(history.history['val_accuracy'])\n",
    "plt.title('model accuracy')\n",
    "plt.ylabel('accuracy')\n",
    "plt.xlabel('epoch')\n",
    "plt.legend(['train', 'val'], loc='upper left')\n",
    "plt.show()\n",
    "\n",
    "pred = modelo.predict(X_test, batch_size=10)\n",
    "predicted = np.argmax(pred, axis=1)\n",
    "predicted = to_categorical(predicted)\n",
    "report = classification_report(Y_test, predicted)\n",
    "print(report)\n",
    "modelo.save('modelo2.h5')"
   ]
  },
  {
   "cell_type": "markdown",
   "metadata": {
    "id": "EAg35Ha1c_yP"
   },
   "source": [
    "Modelo 3"
   ]
  },
  {
   "cell_type": "code",
   "execution_count": 8,
   "metadata": {
    "colab": {
     "base_uri": "https://localhost:8080/"
    },
    "id": "k-B1dBzMc6gw",
    "outputId": "c8584d0d-db64-4782-b45f-a1a659935932"
   },
   "outputs": [
    {
     "name": "stdout",
     "output_type": "stream",
     "text": [
      "Epoch 1/30\n",
      "1875/1875 [==============================] - 26s 14ms/step - loss: 0.2106 - accuracy: 0.9349\n",
      "Epoch 2/30\n",
      "1875/1875 [==============================] - 25s 13ms/step - loss: 0.0728 - accuracy: 0.9777\n",
      "Epoch 3/30\n",
      "1875/1875 [==============================] - 25s 13ms/step - loss: 0.0536 - accuracy: 0.9831\n",
      "Epoch 4/30\n",
      "1875/1875 [==============================] - 25s 14ms/step - loss: 0.0416 - accuracy: 0.9870\n",
      "Epoch 5/30\n",
      "1875/1875 [==============================] - 25s 13ms/step - loss: 0.0323 - accuracy: 0.9897\n",
      "Epoch 6/30\n",
      "1875/1875 [==============================] - 25s 13ms/step - loss: 0.0267 - accuracy: 0.9914\n",
      "Epoch 7/30\n",
      "1875/1875 [==============================] - 25s 13ms/step - loss: 0.0233 - accuracy: 0.9924\n",
      "Epoch 8/30\n",
      "1875/1875 [==============================] - 25s 13ms/step - loss: 0.0186 - accuracy: 0.9940\n",
      "Epoch 9/30\n",
      "1875/1875 [==============================] - 25s 13ms/step - loss: 0.0172 - accuracy: 0.9942\n",
      "Epoch 10/30\n",
      "1875/1875 [==============================] - 25s 13ms/step - loss: 0.0153 - accuracy: 0.9949\n",
      "Epoch 11/30\n",
      "1875/1875 [==============================] - 25s 13ms/step - loss: 0.0131 - accuracy: 0.9956\n",
      "Epoch 12/30\n",
      "1875/1875 [==============================] - 25s 13ms/step - loss: 0.0123 - accuracy: 0.9959\n",
      "Epoch 13/30\n",
      "1875/1875 [==============================] - 25s 13ms/step - loss: 0.0103 - accuracy: 0.9966\n",
      "Epoch 14/30\n",
      "1875/1875 [==============================] - 26s 14ms/step - loss: 0.0106 - accuracy: 0.9967\n",
      "Epoch 15/30\n",
      "1875/1875 [==============================] - 26s 14ms/step - loss: 0.0093 - accuracy: 0.9968\n",
      "Epoch 16/30\n",
      "1875/1875 [==============================] - 26s 14ms/step - loss: 0.0085 - accuracy: 0.9972\n",
      "Epoch 17/30\n",
      "1875/1875 [==============================] - 26s 14ms/step - loss: 0.0083 - accuracy: 0.9970\n",
      "Epoch 18/30\n",
      "1875/1875 [==============================] - 26s 14ms/step - loss: 0.0083 - accuracy: 0.9974\n",
      "Epoch 19/30\n",
      "1875/1875 [==============================] - 26s 14ms/step - loss: 0.0079 - accuracy: 0.9973\n",
      "Epoch 20/30\n",
      "1875/1875 [==============================] - 26s 14ms/step - loss: 0.0078 - accuracy: 0.9975\n",
      "Epoch 21/30\n",
      "1875/1875 [==============================] - 26s 14ms/step - loss: 0.0077 - accuracy: 0.9973\n",
      "Epoch 22/30\n",
      "1875/1875 [==============================] - 26s 14ms/step - loss: 0.0075 - accuracy: 0.9976\n",
      "Epoch 23/30\n",
      "1875/1875 [==============================] - 26s 14ms/step - loss: 0.0051 - accuracy: 0.9984\n",
      "Epoch 24/30\n",
      "1875/1875 [==============================] - 26s 14ms/step - loss: 0.0080 - accuracy: 0.9977\n",
      "Epoch 25/30\n",
      "1875/1875 [==============================] - 26s 14ms/step - loss: 0.0067 - accuracy: 0.9980\n",
      "Epoch 26/30\n",
      "1875/1875 [==============================] - 26s 14ms/step - loss: 0.0060 - accuracy: 0.9983\n",
      "Epoch 27/30\n",
      "1875/1875 [==============================] - 26s 14ms/step - loss: 0.0074 - accuracy: 0.9976\n",
      "Epoch 28/30\n",
      "1875/1875 [==============================] - 26s 14ms/step - loss: 0.0051 - accuracy: 0.9984\n",
      "Epoch 29/30\n",
      "1875/1875 [==============================] - 26s 14ms/step - loss: 0.0055 - accuracy: 0.9984\n",
      "Epoch 30/30\n",
      "1875/1875 [==============================] - 26s 14ms/step - loss: 0.0071 - accuracy: 0.9979\n"
     ]
    }
   ],
   "source": [
    "modelo = tf.keras.Sequential([\n",
    "    tf.keras.layers.Conv2D(32, (3,3), input_shape=(28,28,1), activation='relu'),\n",
    "    tf.keras.layers.MaxPooling2D(2,2), #2,2 es el tamano de la matriz\n",
    "\n",
    "    tf.keras.layers.Conv2D(64, (3,3), activation='relu'),\n",
    "    tf.keras.layers.MaxPooling2D(2,2), #2,2 es el tamano de la matriz\n",
    "    tf.keras.layers.Conv2D(64, (3,3), activation='relu'),\n",
    "    tf.keras.layers.MaxPooling2D(2,2), #2,2 es el tamano de la matriz\n",
    "\n",
    "    tf.keras.layers.Flatten(),\n",
    "    tf.keras.layers.Dense(units=100, activation='relu'),\n",
    "    tf.keras.layers.Dense(10, activation='softmax')\n",
    "])\n",
    "modelo.compile(\n",
    "    optimizer='adam',\n",
    "    loss=tf.keras.losses.CategoricalCrossentropy(),\n",
    "    metrics=['accuracy']\n",
    ")\n",
    "historial = modelo.fit(\n",
    "    X_train,Y_train,\n",
    "    epochs=30,\n",
    "    steps_per_epoch=int(np.ceil(60000 / float(TAMANO_LOTE))),validation_steps=int(np.ceil(10000 / float(TAMANO_LOTE)))\n",
    ")"
   ]
  },
  {
   "cell_type": "code",
   "execution_count": 9,
   "metadata": {
    "colab": {
     "base_uri": "https://localhost:8080/",
     "height": 607
    },
    "id": "yOFqVfhdc6mI",
    "outputId": "91e04d9c-c0a2-4041-c309-7a5471179ae2"
   },
   "outputs": [
    {
     "data": {
      "image/png": "[encoded data removed]",
      "text/plain": [
       "<Figure size 432x288 with 1 Axes>"
      ]
     },
     "metadata": {
      "needs_background": "light"
     },
     "output_type": "display_data"
    },
    {
     "name": "stdout",
     "output_type": "stream",
     "text": [
      "              precision    recall  f1-score   support\n",
      "\n",
      "           0       0.99      0.99      0.99       980\n",
      "           1       0.99      0.99      0.99      1135\n",
      "           2       0.99      0.99      0.99      1032\n",
      "           3       0.98      1.00      0.99      1010\n",
      "           4       0.98      0.99      0.99       982\n",
      "           5       0.99      0.98      0.98       892\n",
      "           6       1.00      0.98      0.99       958\n",
      "           7       0.98      0.99      0.99      1028\n",
      "           8       0.99      0.99      0.99       974\n",
      "           9       0.99      0.99      0.99      1009\n",
      "\n",
      "   micro avg       0.99      0.99      0.99     10000\n",
      "   macro avg       0.99      0.99      0.99     10000\n",
      "weighted avg       0.99      0.99      0.99     10000\n",
      " samples avg       0.99      0.99      0.99     10000\n",
      "\n"
     ]
    }
   ],
   "source": [
    "from sklearn.metrics import classification_report\n",
    "import pandas as pd\n",
    "import matplotlib.pyplot as plt\n",
    "\n",
    "plt.plot(history.history['accuracy'])\n",
    "plt.plot(history.history['val_accuracy'])\n",
    "plt.title('model accuracy')\n",
    "plt.ylabel('accuracy')\n",
    "plt.xlabel('epoch')\n",
    "plt.legend(['train', 'val'], loc='upper left')\n",
    "plt.show()\n",
    "\n",
    "pred = modelo.predict(X_test, batch_size=10)\n",
    "predicted = np.argmax(pred, axis=1)\n",
    "predicted = to_categorical(predicted)\n",
    "report = classification_report(Y_test, predicted)\n",
    "print(report)\n",
    "modelo.save('modelo3.h5')"
   ]
  },
  {
   "cell_type": "markdown",
   "metadata": {
    "id": "AflWIGDRdBxf"
   },
   "source": [
    "Modelo 4"
   ]
  },
  {
   "cell_type": "code",
   "execution_count": 10,
   "metadata": {
    "colab": {
     "base_uri": "https://localhost:8080/"
    },
    "id": "AS1bKnnkc6wR",
    "outputId": "f66ba6e1-d8d5-4576-f4fa-f1594b745076"
   },
   "outputs": [
    {
     "name": "stdout",
     "output_type": "stream",
     "text": [
      "Epoch 1/60\n",
      "1875/1875 [==============================] - 27s 14ms/step - loss: 0.1912 - accuracy: 0.9416\n",
      "Epoch 2/60\n",
      "1875/1875 [==============================] - 27s 14ms/step - loss: 0.0647 - accuracy: 0.9796\n",
      "Epoch 3/60\n",
      "1875/1875 [==============================] - 26s 14ms/step - loss: 0.0453 - accuracy: 0.9858\n",
      "Epoch 4/60\n",
      "1875/1875 [==============================] - 26s 14ms/step - loss: 0.0343 - accuracy: 0.9893\n",
      "Epoch 5/60\n",
      "1875/1875 [==============================] - 26s 14ms/step - loss: 0.0280 - accuracy: 0.9913\n",
      "Epoch 6/60\n",
      "1875/1875 [==============================] - 27s 14ms/step - loss: 0.0221 - accuracy: 0.9928\n",
      "Epoch 7/60\n",
      "1875/1875 [==============================] - 27s 14ms/step - loss: 0.0189 - accuracy: 0.9940\n",
      "Epoch 8/60\n",
      "1875/1875 [==============================] - 26s 14ms/step - loss: 0.0157 - accuracy: 0.9950\n",
      "Epoch 9/60\n",
      "1875/1875 [==============================] - 26s 14ms/step - loss: 0.0130 - accuracy: 0.9957\n",
      "Epoch 10/60\n",
      "1875/1875 [==============================] - 26s 14ms/step - loss: 0.0111 - accuracy: 0.9962\n",
      "Epoch 11/60\n",
      "1875/1875 [==============================] - 26s 14ms/step - loss: 0.0118 - accuracy: 0.9960\n",
      "Epoch 12/60\n",
      "1875/1875 [==============================] - 26s 14ms/step - loss: 0.0112 - accuracy: 0.9963\n",
      "Epoch 13/60\n",
      "1875/1875 [==============================] - 26s 14ms/step - loss: 0.0089 - accuracy: 0.9971\n",
      "Epoch 14/60\n",
      "1875/1875 [==============================] - 26s 14ms/step - loss: 0.0088 - accuracy: 0.9972\n",
      "Epoch 15/60\n",
      "1875/1875 [==============================] - 26s 14ms/step - loss: 0.0076 - accuracy: 0.9973\n",
      "Epoch 16/60\n",
      "1875/1875 [==============================] - 26s 14ms/step - loss: 0.0065 - accuracy: 0.9979\n",
      "Epoch 17/60\n",
      "1875/1875 [==============================] - 26s 14ms/step - loss: 0.0086 - accuracy: 0.9972\n",
      "Epoch 18/60\n",
      "1875/1875 [==============================] - 26s 14ms/step - loss: 0.0072 - accuracy: 0.9978\n",
      "Epoch 19/60\n",
      "1875/1875 [==============================] - 26s 14ms/step - loss: 0.0063 - accuracy: 0.9980\n",
      "Epoch 20/60\n",
      "1875/1875 [==============================] - 27s 14ms/step - loss: 0.0058 - accuracy: 0.9981\n",
      "Epoch 21/60\n",
      "1875/1875 [==============================] - 27s 14ms/step - loss: 0.0067 - accuracy: 0.9977\n",
      "Epoch 22/60\n",
      "1875/1875 [==============================] - 27s 14ms/step - loss: 0.0060 - accuracy: 0.9982\n",
      "Epoch 23/60\n",
      "1875/1875 [==============================] - 27s 14ms/step - loss: 0.0060 - accuracy: 0.9983\n",
      "Epoch 24/60\n",
      "1875/1875 [==============================] - 27s 14ms/step - loss: 0.0061 - accuracy: 0.9980\n",
      "Epoch 25/60\n",
      "1875/1875 [==============================] - 27s 14ms/step - loss: 0.0062 - accuracy: 0.9982\n",
      "Epoch 26/60\n",
      "1875/1875 [==============================] - 27s 14ms/step - loss: 0.0052 - accuracy: 0.9984\n",
      "Epoch 27/60\n",
      "1875/1875 [==============================] - 27s 14ms/step - loss: 0.0065 - accuracy: 0.9982\n",
      "Epoch 28/60\n",
      "1875/1875 [==============================] - 27s 14ms/step - loss: 0.0043 - accuracy: 0.9988\n",
      "Epoch 29/60\n",
      "1875/1875 [==============================] - 27s 14ms/step - loss: 0.0064 - accuracy: 0.9982\n",
      "Epoch 30/60\n",
      "1875/1875 [==============================] - 27s 14ms/step - loss: 0.0039 - accuracy: 0.9987\n",
      "Epoch 31/60\n",
      "1875/1875 [==============================] - 27s 14ms/step - loss: 0.0053 - accuracy: 0.9984\n",
      "Epoch 32/60\n",
      "1875/1875 [==============================] - 27s 14ms/step - loss: 0.0042 - accuracy: 0.9990\n",
      "Epoch 33/60\n",
      "1875/1875 [==============================] - 27s 14ms/step - loss: 0.0058 - accuracy: 0.9984\n",
      "Epoch 34/60\n",
      "1875/1875 [==============================] - 27s 14ms/step - loss: 0.0055 - accuracy: 0.9985\n",
      "Epoch 35/60\n",
      "1875/1875 [==============================] - 27s 14ms/step - loss: 0.0049 - accuracy: 0.9988\n",
      "Epoch 36/60\n",
      "1875/1875 [==============================] - 27s 14ms/step - loss: 0.0057 - accuracy: 0.9985\n",
      "Epoch 37/60\n",
      "1875/1875 [==============================] - 27s 14ms/step - loss: 0.0026 - accuracy: 0.9993\n",
      "Epoch 38/60\n",
      "1875/1875 [==============================] - 27s 14ms/step - loss: 0.0061 - accuracy: 0.9984\n",
      "Epoch 39/60\n",
      "1875/1875 [==============================] - 27s 14ms/step - loss: 0.0048 - accuracy: 0.9987\n",
      "Epoch 40/60\n",
      "1875/1875 [==============================] - 27s 14ms/step - loss: 0.0052 - accuracy: 0.9986\n",
      "Epoch 41/60\n",
      "1875/1875 [==============================] - 28s 15ms/step - loss: 0.0046 - accuracy: 0.9987\n",
      "Epoch 42/60\n",
      "1875/1875 [==============================] - 27s 15ms/step - loss: 0.0049 - accuracy: 0.9988\n",
      "Epoch 43/60\n",
      "1875/1875 [==============================] - 27s 14ms/step - loss: 0.0047 - accuracy: 0.9989\n",
      "Epoch 44/60\n",
      "1875/1875 [==============================] - 27s 14ms/step - loss: 0.0058 - accuracy: 0.9987\n",
      "Epoch 45/60\n",
      "1875/1875 [==============================] - 27s 14ms/step - loss: 0.0033 - accuracy: 0.9991\n",
      "Epoch 46/60\n",
      "1875/1875 [==============================] - 27s 14ms/step - loss: 0.0055 - accuracy: 0.9987\n",
      "Epoch 47/60\n",
      "1875/1875 [==============================] - 27s 14ms/step - loss: 0.0038 - accuracy: 0.9991\n",
      "Epoch 48/60\n",
      "1875/1875 [==============================] - 27s 14ms/step - loss: 0.0037 - accuracy: 0.9990\n",
      "Epoch 49/60\n",
      "1875/1875 [==============================] - 28s 15ms/step - loss: 0.0040 - accuracy: 0.9990\n",
      "Epoch 50/60\n",
      "1875/1875 [==============================] - 28s 15ms/step - loss: 0.0044 - accuracy: 0.9989\n",
      "Epoch 51/60\n",
      "1875/1875 [==============================] - 28s 15ms/step - loss: 0.0050 - accuracy: 0.9988\n",
      "Epoch 52/60\n",
      "1875/1875 [==============================] - 28s 15ms/step - loss: 0.0040 - accuracy: 0.9990\n",
      "Epoch 53/60\n",
      "1875/1875 [==============================] - 26s 14ms/step - loss: 0.0039 - accuracy: 0.9988\n",
      "Epoch 54/60\n",
      "1875/1875 [==============================] - 26s 14ms/step - loss: 0.0025 - accuracy: 0.9992\n",
      "Epoch 55/60\n",
      "1875/1875 [==============================] - 26s 14ms/step - loss: 0.0057 - accuracy: 0.9987\n",
      "Epoch 56/60\n",
      "1875/1875 [==============================] - 26s 14ms/step - loss: 0.0043 - accuracy: 0.9991\n",
      "Epoch 57/60\n",
      "1875/1875 [==============================] - 26s 14ms/step - loss: 0.0034 - accuracy: 0.9992\n",
      "Epoch 58/60\n",
      "1875/1875 [==============================] - 26s 14ms/step - loss: 0.0047 - accuracy: 0.9988\n",
      "Epoch 59/60\n",
      "1875/1875 [==============================] - 26s 14ms/step - loss: 0.0052 - accuracy: 0.9988\n",
      "Epoch 60/60\n",
      "1875/1875 [==============================] - 26s 14ms/step - loss: 0.0036 - accuracy: 0.9992\n"
     ]
    }
   ],
   "source": [
    "modelo = tf.keras.Sequential([\n",
    "    tf.keras.layers.Conv2D(32, (3,3), input_shape=(28,28,1), activation='relu'),\n",
    "    tf.keras.layers.MaxPooling2D(2,2), #2,2 es el tamano de la matriz\n",
    "\n",
    "    tf.keras.layers.Conv2D(64, (3,3), activation='relu'),\n",
    "    tf.keras.layers.MaxPooling2D(2,2), #2,2 es el tamano de la matriz\n",
    "    tf.keras.layers.Conv2D(128, (3,3), activation='relu'),\n",
    "    tf.keras.layers.MaxPooling2D(2,2), #2,2 es el tamano de la matriz\n",
    "\n",
    "    tf.keras.layers.Flatten(),\n",
    "    tf.keras.layers.Dense(units=100, activation='relu'),\n",
    "    tf.keras.layers.Dense(10, activation='softmax')\n",
    "])\n",
    "modelo.compile(\n",
    "    optimizer='adam',\n",
    "    loss=tf.keras.losses.CategoricalCrossentropy(),\n",
    "    metrics=['accuracy']\n",
    ")\n",
    "historial = modelo.fit(\n",
    "    X_train,Y_train,\n",
    "    epochs=60,\n",
    "    steps_per_epoch=int(np.ceil(60000 / float(TAMANO_LOTE))),validation_steps=int(np.ceil(10000 / float(TAMANO_LOTE)))\n",
    ")"
   ]
  },
  {
   "cell_type": "code",
   "execution_count": 11,
   "metadata": {
    "colab": {
     "base_uri": "https://localhost:8080/",
     "height": 607
    },
    "id": "XV7p0_ITc60A",
    "outputId": "ef866b71-f936-4aa5-9ed7-45f7be8b54ec"
   },
   "outputs": [
    {
     "data": {
      "image/png": "[encoded data removed]",
      "text/plain": [
       "<Figure size 432x288 with 1 Axes>"
      ]
     },
     "metadata": {
      "needs_background": "light"
     },
     "output_type": "display_data"
    },
    {
     "name": "stdout",
     "output_type": "stream",
     "text": [
      "              precision    recall  f1-score   support\n",
      "\n",
      "           0       0.98      0.99      0.99       980\n",
      "           1       0.99      1.00      1.00      1135\n",
      "           2       0.99      0.97      0.98      1032\n",
      "           3       0.99      1.00      0.99      1010\n",
      "           4       0.98      0.99      0.99       982\n",
      "           5       0.99      0.98      0.99       892\n",
      "           6       0.99      0.99      0.99       958\n",
      "           7       0.97      0.99      0.98      1028\n",
      "           8       0.99      0.99      0.99       974\n",
      "           9       0.99      0.98      0.98      1009\n",
      "\n",
      "   micro avg       0.99      0.99      0.99     10000\n",
      "   macro avg       0.99      0.99      0.99     10000\n",
      "weighted avg       0.99      0.99      0.99     10000\n",
      " samples avg       0.99      0.99      0.99     10000\n",
      "\n"
     ]
    }
   ],
   "source": [
    "from sklearn.metrics import classification_report\n",
    "import pandas as pd\n",
    "import matplotlib.pyplot as plt\n",
    "\n",
    "plt.plot(history.history['accuracy'])\n",
    "plt.plot(history.history['val_accuracy'])\n",
    "plt.title('model accuracy')\n",
    "plt.ylabel('accuracy')\n",
    "plt.xlabel('epoch')\n",
    "plt.legend(['train', 'val'], loc='upper left')\n",
    "plt.show()\n",
    "\n",
    "pred = modelo.predict(X_test, batch_size=10)\n",
    "predicted = np.argmax(pred, axis=1)\n",
    "predicted = to_categorical(predicted)\n",
    "report = classification_report(Y_test, predicted)\n",
    "print(report)\n",
    "modelo.save('modelo4.h5')"
   ]
  },
  {
   "cell_type": "markdown",
   "metadata": {
    "id": "iyLzgMF1dEcX"
   },
   "source": [
    "Modelo 5"
   ]
  },
  {
   "cell_type": "code",
   "execution_count": 12,
   "metadata": {
    "id": "rAdy4jCLRIWn"
   },
   "outputs": [],
   "source": [
    "#Modelo Numero 5\n",
    "modelo = tf.keras.models.Sequential([\n",
    "    tf.keras.layers.Conv2D(32, (3,3), activation='relu', input_shape=(28, 28, 1)),\n",
    "    tf.keras.layers.MaxPooling2D(2, 2),\n",
    "    tf.keras.layers.Conv2D(128, (3,3), activation='relu'),\n",
    "    tf.keras.layers.MaxPooling2D(2,2),\n",
    "    tf.keras.layers.Flatten(),\n",
    "    tf.keras.layers.Dropout(0.5),\n",
    "    tf.keras.layers.Dense(100, activation='relu'),\n",
    "    tf.keras.layers.Dense(10, activation=\"softmax\")\n",
    "])\n",
    "\n",
    "\n",
    "modelo.compile(optimizer='adam',\n",
    "              loss='categorical_crossentropy',\n",
    "              metrics=['accuracy'])"
   ]
  },
  {
   "cell_type": "code",
   "execution_count": 13,
   "metadata": {
    "id": "Sa_zjE70RIT2"
   },
   "outputs": [],
   "source": [
    "#Generar datos\n",
    "data_gen_entrenamiento = datagen.flow(X_train, Y_train, batch_size=32)"
   ]
  },
  {
   "cell_type": "code",
   "execution_count": 14,
   "metadata": {
    "colab": {
     "base_uri": "https://localhost:8080/"
    },
    "id": "r9WNLk0xRIQ9",
    "outputId": "b6464f27-9d0a-49ad-ef91-0ae8e582725f"
   },
   "outputs": [
    {
     "name": "stdout",
     "output_type": "stream",
     "text": [
      "Epoch 1/60\n",
      "1875/1875 [==============================] - 47s 25ms/step - loss: 1.1065 - accuracy: 0.6286 - val_loss: 0.1910 - val_accuracy: 0.9493\n",
      "Epoch 2/60\n",
      "1875/1875 [==============================] - 45s 24ms/step - loss: 0.6288 - accuracy: 0.7979 - val_loss: 0.1034 - val_accuracy: 0.9685\n",
      "Epoch 3/60\n",
      "1875/1875 [==============================] - 40s 21ms/step - loss: 0.5221 - accuracy: 0.8303 - val_loss: 0.0970 - val_accuracy: 0.9693\n",
      "Epoch 4/60\n",
      "1875/1875 [==============================] - 40s 21ms/step - loss: 0.4749 - accuracy: 0.8473 - val_loss: 0.0909 - val_accuracy: 0.9714\n",
      "Epoch 5/60\n",
      "1875/1875 [==============================] - 40s 21ms/step - loss: 0.4279 - accuracy: 0.8628 - val_loss: 0.0685 - val_accuracy: 0.9775\n",
      "Epoch 6/60\n",
      "1875/1875 [==============================] - 40s 21ms/step - loss: 0.4050 - accuracy: 0.8675 - val_loss: 0.0650 - val_accuracy: 0.9803\n",
      "Epoch 7/60\n",
      "1875/1875 [==============================] - 40s 21ms/step - loss: 0.3863 - accuracy: 0.8747 - val_loss: 0.0556 - val_accuracy: 0.9827\n",
      "Epoch 8/60\n",
      "1875/1875 [==============================] - 40s 21ms/step - loss: 0.3768 - accuracy: 0.8787 - val_loss: 0.0618 - val_accuracy: 0.9811\n",
      "Epoch 9/60\n",
      "1875/1875 [==============================] - 40s 21ms/step - loss: 0.3614 - accuracy: 0.8817 - val_loss: 0.0617 - val_accuracy: 0.9810\n",
      "Epoch 10/60\n",
      "1875/1875 [==============================] - 40s 21ms/step - loss: 0.3498 - accuracy: 0.8867 - val_loss: 0.0666 - val_accuracy: 0.9791\n",
      "Epoch 11/60\n",
      "1875/1875 [==============================] - 40s 21ms/step - loss: 0.3308 - accuracy: 0.8931 - val_loss: 0.0676 - val_accuracy: 0.9797\n",
      "Epoch 12/60\n",
      "1875/1875 [==============================] - 40s 21ms/step - loss: 0.3266 - accuracy: 0.8949 - val_loss: 0.0562 - val_accuracy: 0.9830\n",
      "Epoch 13/60\n",
      "1875/1875 [==============================] - 40s 21ms/step - loss: 0.3280 - accuracy: 0.8952 - val_loss: 0.0682 - val_accuracy: 0.9763\n",
      "Epoch 14/60\n",
      "1875/1875 [==============================] - 41s 22ms/step - loss: 0.3148 - accuracy: 0.8981 - val_loss: 0.0660 - val_accuracy: 0.9800\n",
      "Epoch 15/60\n",
      "1875/1875 [==============================] - 41s 22ms/step - loss: 0.3088 - accuracy: 0.9001 - val_loss: 0.0473 - val_accuracy: 0.9846\n",
      "Epoch 16/60\n",
      "1875/1875 [==============================] - 40s 21ms/step - loss: 0.3042 - accuracy: 0.9000 - val_loss: 0.0509 - val_accuracy: 0.9848\n",
      "Epoch 17/60\n",
      "1875/1875 [==============================] - 41s 22ms/step - loss: 0.2995 - accuracy: 0.9033 - val_loss: 0.0597 - val_accuracy: 0.9815\n",
      "Epoch 18/60\n",
      "1875/1875 [==============================] - 40s 22ms/step - loss: 0.2897 - accuracy: 0.9063 - val_loss: 0.0524 - val_accuracy: 0.9833\n",
      "Epoch 19/60\n",
      "1875/1875 [==============================] - 40s 21ms/step - loss: 0.2905 - accuracy: 0.9054 - val_loss: 0.0570 - val_accuracy: 0.9809\n",
      "Epoch 20/60\n",
      "1875/1875 [==============================] - 40s 21ms/step - loss: 0.2940 - accuracy: 0.9056 - val_loss: 0.0521 - val_accuracy: 0.9835\n",
      "Epoch 21/60\n",
      "1875/1875 [==============================] - 40s 21ms/step - loss: 0.2813 - accuracy: 0.9100 - val_loss: 0.0539 - val_accuracy: 0.9836\n",
      "Epoch 22/60\n",
      "1875/1875 [==============================] - 40s 21ms/step - loss: 0.2832 - accuracy: 0.9086 - val_loss: 0.0659 - val_accuracy: 0.9792\n",
      "Epoch 23/60\n",
      "1875/1875 [==============================] - 39s 21ms/step - loss: 0.2825 - accuracy: 0.9094 - val_loss: 0.0682 - val_accuracy: 0.9790\n",
      "Epoch 24/60\n",
      "1875/1875 [==============================] - 40s 21ms/step - loss: 0.2796 - accuracy: 0.9097 - val_loss: 0.0545 - val_accuracy: 0.9838\n",
      "Epoch 25/60\n",
      "1875/1875 [==============================] - 40s 21ms/step - loss: 0.2767 - accuracy: 0.9110 - val_loss: 0.0629 - val_accuracy: 0.9801\n",
      "Epoch 26/60\n",
      "1875/1875 [==============================] - 40s 21ms/step - loss: 0.2762 - accuracy: 0.9112 - val_loss: 0.0554 - val_accuracy: 0.9818\n",
      "Epoch 27/60\n",
      "1875/1875 [==============================] - 40s 21ms/step - loss: 0.2711 - accuracy: 0.9126 - val_loss: 0.0655 - val_accuracy: 0.9796\n",
      "Epoch 28/60\n",
      "1875/1875 [==============================] - 40s 21ms/step - loss: 0.2640 - accuracy: 0.9141 - val_loss: 0.0543 - val_accuracy: 0.9833\n",
      "Epoch 29/60\n",
      "1875/1875 [==============================] - 40s 21ms/step - loss: 0.2666 - accuracy: 0.9133 - val_loss: 0.0527 - val_accuracy: 0.9842\n",
      "Epoch 30/60\n",
      "1875/1875 [==============================] - 40s 21ms/step - loss: 0.2624 - accuracy: 0.9164 - val_loss: 0.0668 - val_accuracy: 0.9795\n",
      "Epoch 31/60\n",
      "1875/1875 [==============================] - 40s 21ms/step - loss: 0.2617 - accuracy: 0.9153 - val_loss: 0.0467 - val_accuracy: 0.9847\n",
      "Epoch 32/60\n",
      "1875/1875 [==============================] - 40s 21ms/step - loss: 0.2525 - accuracy: 0.9175 - val_loss: 0.0559 - val_accuracy: 0.9816\n",
      "Epoch 33/60\n",
      "1875/1875 [==============================] - 40s 21ms/step - loss: 0.2628 - accuracy: 0.9156 - val_loss: 0.0554 - val_accuracy: 0.9824\n",
      "Epoch 34/60\n",
      "1875/1875 [==============================] - 40s 21ms/step - loss: 0.2594 - accuracy: 0.9160 - val_loss: 0.0501 - val_accuracy: 0.9846\n",
      "Epoch 35/60\n",
      "1875/1875 [==============================] - 40s 21ms/step - loss: 0.2554 - accuracy: 0.9180 - val_loss: 0.0408 - val_accuracy: 0.9856\n",
      "Epoch 36/60\n",
      "1875/1875 [==============================] - 39s 21ms/step - loss: 0.2575 - accuracy: 0.9175 - val_loss: 0.0638 - val_accuracy: 0.9814\n",
      "Epoch 37/60\n",
      "1875/1875 [==============================] - 39s 21ms/step - loss: 0.2549 - accuracy: 0.9182 - val_loss: 0.0633 - val_accuracy: 0.9814\n",
      "Epoch 38/60\n",
      "1875/1875 [==============================] - 39s 21ms/step - loss: 0.2515 - accuracy: 0.9185 - val_loss: 0.0677 - val_accuracy: 0.9814\n",
      "Epoch 39/60\n",
      "1875/1875 [==============================] - 39s 21ms/step - loss: 0.2514 - accuracy: 0.9201 - val_loss: 0.0472 - val_accuracy: 0.9856\n",
      "Epoch 40/60\n",
      "1875/1875 [==============================] - 39s 21ms/step - loss: 0.2493 - accuracy: 0.9197 - val_loss: 0.0472 - val_accuracy: 0.9844\n",
      "Epoch 41/60\n",
      "1875/1875 [==============================] - 40s 21ms/step - loss: 0.2452 - accuracy: 0.9218 - val_loss: 0.0557 - val_accuracy: 0.9825\n",
      "Epoch 42/60\n",
      "1875/1875 [==============================] - 39s 21ms/step - loss: 0.2516 - accuracy: 0.9197 - val_loss: 0.0479 - val_accuracy: 0.9849\n",
      "Epoch 43/60\n",
      "1875/1875 [==============================] - 39s 21ms/step - loss: 0.2467 - accuracy: 0.9203 - val_loss: 0.0665 - val_accuracy: 0.9801\n",
      "Epoch 44/60\n",
      "1875/1875 [==============================] - 39s 21ms/step - loss: 0.2441 - accuracy: 0.9221 - val_loss: 0.0531 - val_accuracy: 0.9845\n",
      "Epoch 45/60\n",
      "1875/1875 [==============================] - 39s 21ms/step - loss: 0.2479 - accuracy: 0.9191 - val_loss: 0.0642 - val_accuracy: 0.9807\n",
      "Epoch 46/60\n",
      "1875/1875 [==============================] - 41s 22ms/step - loss: 0.2428 - accuracy: 0.9215 - val_loss: 0.0657 - val_accuracy: 0.9802\n",
      "Epoch 47/60\n",
      "1875/1875 [==============================] - 48s 26ms/step - loss: 0.2394 - accuracy: 0.9225 - val_loss: 0.0674 - val_accuracy: 0.9800\n",
      "Epoch 48/60\n",
      "1875/1875 [==============================] - 42s 23ms/step - loss: 0.2458 - accuracy: 0.9196 - val_loss: 0.0575 - val_accuracy: 0.9818\n",
      "Epoch 49/60\n",
      "1875/1875 [==============================] - 42s 22ms/step - loss: 0.2404 - accuracy: 0.9222 - val_loss: 0.0578 - val_accuracy: 0.9835\n",
      "Epoch 50/60\n",
      "1875/1875 [==============================] - 42s 22ms/step - loss: 0.2377 - accuracy: 0.9238 - val_loss: 0.0497 - val_accuracy: 0.9847\n",
      "Epoch 51/60\n",
      "1875/1875 [==============================] - 42s 22ms/step - loss: 0.2424 - accuracy: 0.9215 - val_loss: 0.0540 - val_accuracy: 0.9849\n",
      "Epoch 52/60\n",
      "1875/1875 [==============================] - 42s 22ms/step - loss: 0.2388 - accuracy: 0.9231 - val_loss: 0.0465 - val_accuracy: 0.9856\n",
      "Epoch 53/60\n",
      "1875/1875 [==============================] - 42s 22ms/step - loss: 0.2368 - accuracy: 0.9228 - val_loss: 0.0520 - val_accuracy: 0.9845\n",
      "Epoch 54/60\n",
      "1875/1875 [==============================] - 42s 23ms/step - loss: 0.2370 - accuracy: 0.9245 - val_loss: 0.0494 - val_accuracy: 0.9857\n",
      "Epoch 55/60\n",
      "1875/1875 [==============================] - 42s 23ms/step - loss: 0.2380 - accuracy: 0.9243 - val_loss: 0.0631 - val_accuracy: 0.9820\n",
      "Epoch 56/60\n",
      "1875/1875 [==============================] - 42s 22ms/step - loss: 0.2337 - accuracy: 0.9249 - val_loss: 0.0633 - val_accuracy: 0.9818\n"
     ]
    },
    {
     "name": "stdout",
     "output_type": "stream",
     "text": [
      "Epoch 57/60\n",
      "1875/1875 [==============================] - 41s 22ms/step - loss: 0.2370 - accuracy: 0.9239 - val_loss: 0.0580 - val_accuracy: 0.9825\n",
      "Epoch 58/60\n",
      "1875/1875 [==============================] - 40s 22ms/step - loss: 0.2313 - accuracy: 0.9259 - val_loss: 0.0564 - val_accuracy: 0.9835\n",
      "Epoch 59/60\n",
      "1875/1875 [==============================] - 41s 22ms/step - loss: 0.2304 - accuracy: 0.9264 - val_loss: 0.0594 - val_accuracy: 0.9819\n",
      "Epoch 60/60\n",
      "1875/1875 [==============================] - 40s 22ms/step - loss: 0.2384 - accuracy: 0.9231 - val_loss: 0.0524 - val_accuracy: 0.9840\n"
     ]
    }
   ],
   "source": [
    "TAMANO_LOTE = 32\n",
    "\n",
    "#Se entrena la red\n",
    "\n",
    "history = modelo.fit(data_gen_entrenamiento,epochs=60,batch_size=TAMANO_LOTE,validation_data=(X_test, Y_test),steps_per_epoch=int(np.ceil(60000 / float(TAMANO_LOTE))),validation_steps=int(np.ceil(10000 / float(TAMANO_LOTE))))\n",
    "\n",
    "#history = modelo.fit(data_gen_entrenamiento,epochs=60,batch_size=TAMANO_LOTE,validation_data=(X_val, y_val),steps_per_epoch=64,validation_steps=10)\n",
    "\n",
    "\n"
   ]
  },
  {
   "cell_type": "code",
   "execution_count": 15,
   "metadata": {
    "id": "8utwwB_EprTr"
   },
   "outputs": [
    {
     "data": {
      "image/png": "[encoded data removed]",
      "text/plain": [
       "<Figure size 432x288 with 1 Axes>"
      ]
     },
     "metadata": {
      "needs_background": "light"
     },
     "output_type": "display_data"
    },
    {
     "name": "stdout",
     "output_type": "stream",
     "text": [
      "              precision    recall  f1-score   support\n",
      "\n",
      "           0       0.97      1.00      0.99       980\n",
      "           1       1.00      0.98      0.99      1135\n",
      "           2       0.98      0.99      0.99      1032\n",
      "           3       0.99      0.99      0.99      1010\n",
      "           4       0.99      0.99      0.99       982\n",
      "           5       0.98      0.98      0.98       892\n",
      "           6       0.99      0.97      0.98       958\n",
      "           7       0.97      0.99      0.98      1028\n",
      "           8       0.99      0.98      0.99       974\n",
      "           9       1.00      0.95      0.97      1009\n",
      "\n",
      "   micro avg       0.98      0.98      0.98     10000\n",
      "   macro avg       0.98      0.98      0.98     10000\n",
      "weighted avg       0.98      0.98      0.98     10000\n",
      " samples avg       0.98      0.98      0.98     10000\n",
      "\n"
     ]
    }
   ],
   "source": [
    "from sklearn.metrics import classification_report\n",
    "import pandas as pd\n",
    "import matplotlib.pyplot as plt\n",
    "\n",
    "plt.plot(history.history['accuracy'])\n",
    "plt.plot(history.history['val_accuracy'])\n",
    "plt.title('model accuracy')\n",
    "plt.ylabel('accuracy')\n",
    "plt.xlabel('epoch')\n",
    "plt.legend(['train', 'val'], loc='upper left')\n",
    "plt.show()\n",
    "\n",
    "pred = modelo.predict(X_test, batch_size=10)\n",
    "predicted = np.argmax(pred, axis=1)\n",
    "predicted = to_categorical(predicted)\n",
    "report = classification_report(Y_test, predicted)\n",
    "print(report)\n",
    "modelo.save('modelo5.h5')"
   ]
  }
 ],
 "metadata": {
  "accelerator": "GPU",
  "colab": {
   "collapsed_sections": [],
   "name": "Modulo4-Tesis",
   "provenance": []
  },
  "kernelspec": {
   "display_name": "Python 3 (ipykernel)",
   "language": "python",
   "name": "python3"
  },
  "language_info": {
   "codemirror_mode": {
    "name": "ipython",
    "version": 3
   },
   "file_extension": ".py",
   "mimetype": "text/x-python",
   "name": "python",
   "nbconvert_exporter": "python",
   "pygments_lexer": "ipython3",
   "version": "3.9.7"
  }
 },
 "nbformat": 4,
 "nbformat_minor": 1
}
